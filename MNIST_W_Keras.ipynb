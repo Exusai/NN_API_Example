{
  "cells": [
    {
      "cell_type": "code",
      "execution_count": 1,
      "metadata": {
        "colab": {
          "base_uri": "https://localhost:8080/",
          "height": 35
        },
        "id": "0ZO7AUwXkBeH",
        "outputId": "cff4f4bc-2a1b-4560-ba54-bf853c0cc21e"
      },
      "outputs": [
        {
          "data": {
            "text/plain": [
              "'2.5.0'"
            ]
          },
          "execution_count": 1,
          "metadata": {},
          "output_type": "execute_result"
        }
      ],
      "source": [
        "import tensorflow as tf\n",
        "from tensorflow import keras\n",
        "import matplotlib.pyplot as plt\n",
        "\n",
        "tf.__version__"
      ]
    },
    {
      "cell_type": "code",
      "execution_count": 2,
      "metadata": {
        "colab": {
          "base_uri": "https://localhost:8080/",
          "height": 316
        },
        "id": "hWBa972Lkg_H",
        "outputId": "d35c709f-c979-4a6c-ab6d-38b8f8d2b158"
      },
      "outputs": [
        {
          "name": "stdout",
          "output_type": "stream",
          "text": [
            "6\n"
          ]
        },
        {
          "data": {
            "image/png": "[encoded data removed]",
            "text/plain": [
              "<Figure size 432x288 with 1 Axes>"
            ]
          },
          "metadata": {
            "needs_background": "light"
          },
          "output_type": "display_data"
        }
      ],
      "source": [
        "#Load Dataset\n",
        "fashionMnist = keras.datasets.mnist\n",
        "(xTrainFull, yTrainFull), (xTest, ytest) = fashionMnist.load_data()\n",
        "\n",
        "#Scale input features\n",
        "xValid, xTrain = xTrainFull[:5000] / 255.0, xTrainFull[5000:] / 255.0\n",
        "yValid, yTrain = yTrainFull[:5000], yTrainFull[5000:]\n",
        "\n",
        "classNames = [0,1,2,3,4,5,6,7,8,9]\n",
        "print(classNames[yTrain[3]])\n",
        "imgplot = plt.imshow((xTrain[3]))"
      ]
    },
    {
      "cell_type": "code",
      "execution_count": 3,
      "metadata": {
        "id": "9_-npJd0mXmO"
      },
      "outputs": [],
      "source": [
        "model = keras.models.Sequential()\n",
        "model.add(keras.layers.Flatten(input_shape = [28, 28]))\n",
        "model.add(keras.layers.Dense(300, activation =  \"relu\"))\n",
        "model.add(keras.layers.Dense(100, activation =  \"relu\"))\n",
        "model.add(keras.layers.Dense(10, activation = \"softmax\"))\n",
        "#model.summary()\n",
        "model.compile(loss = \"sparse_categorical_crossentropy\", optimizer = \"sgd\", metrics = [\"accuracy\"])"
      ]
    },
    {
      "cell_type": "code",
      "execution_count": 4,
      "metadata": {
        "colab": {
          "base_uri": "https://localhost:8080/"
        },
        "id": "VNttKYW7qCq6",
        "outputId": "2d835140-fe7a-494b-d010-bd8892ddfd93"
      },
      "outputs": [
        {
          "name": "stdout",
          "output_type": "stream",
          "text": [
            "Epoch 1/5\n",
            "1719/1719 [==============================] - 24s 10ms/step - loss: 0.6107 - accuracy: 0.8426 - val_loss: 0.3068 - val_accuracy: 0.9154\n",
            "Epoch 2/5\n",
            "1719/1719 [==============================] - 14s 8ms/step - loss: 0.2889 - accuracy: 0.9183 - val_loss: 0.2393 - val_accuracy: 0.9344\n",
            "Epoch 3/5\n",
            "1719/1719 [==============================] - 14s 8ms/step - loss: 0.2361 - accuracy: 0.9332 - val_loss: 0.2048 - val_accuracy: 0.9438\n",
            "Epoch 4/5\n",
            "1719/1719 [==============================] - 15s 9ms/step - loss: 0.2008 - accuracy: 0.9425 - val_loss: 0.1786 - val_accuracy: 0.9502\n",
            "Epoch 5/5\n",
            "1719/1719 [==============================] - 14s 8ms/step - loss: 0.1746 - accuracy: 0.9504 - val_loss: 0.1593 - val_accuracy: 0.9540\n"
          ]
        }
      ],
      "source": [
        "history = model.fit(xTrain, yTrain, epochs = 5, validation_data = (xValid, yValid))"
      ]
    },
    {
      "cell_type": "code",
      "execution_count": 5,
      "metadata": {
        "colab": {
          "base_uri": "https://localhost:8080/",
          "height": 324
        },
        "id": "4h2BfqSjrxj_",
        "outputId": "7f198fbc-8c8e-4276-f96a-7a284f3a339b"
      },
      "outputs": [
        {
          "ename": "ModuleNotFoundError",
          "evalue": "No module named 'pandas'",
          "output_type": "error",
          "traceback": [
            "\u001b[1;31m---------------------------------------------------------------------------\u001b[0m",
            "\u001b[1;31mModuleNotFoundError\u001b[0m                       Traceback (most recent call last)",
            "\u001b[1;32m<ipython-input-5-f88fb53c6268>\u001b[0m in \u001b[0;36m<module>\u001b[1;34m\u001b[0m\n\u001b[1;32m----> 1\u001b[1;33m \u001b[1;32mimport\u001b[0m \u001b[0mpandas\u001b[0m \u001b[1;32mas\u001b[0m \u001b[0mpd\u001b[0m\u001b[1;33m\u001b[0m\u001b[1;33m\u001b[0m\u001b[0m\n\u001b[0m\u001b[0;32m      2\u001b[0m \u001b[1;32mimport\u001b[0m \u001b[0mmatplotlib\u001b[0m\u001b[1;33m.\u001b[0m\u001b[0mpyplot\u001b[0m \u001b[1;32mas\u001b[0m \u001b[0mplt\u001b[0m\u001b[1;33m\u001b[0m\u001b[1;33m\u001b[0m\u001b[0m\n\u001b[0;32m      3\u001b[0m \u001b[0mpd\u001b[0m\u001b[1;33m.\u001b[0m\u001b[0mDataFrame\u001b[0m\u001b[1;33m(\u001b[0m\u001b[0mhistory\u001b[0m\u001b[1;33m.\u001b[0m\u001b[0mhistory\u001b[0m\u001b[1;33m)\u001b[0m\u001b[1;33m.\u001b[0m\u001b[0mplot\u001b[0m\u001b[1;33m(\u001b[0m\u001b[0mfigsize\u001b[0m \u001b[1;33m=\u001b[0m \u001b[1;33m(\u001b[0m\u001b[1;36m8\u001b[0m\u001b[1;33m,\u001b[0m \u001b[1;36m5\u001b[0m\u001b[1;33m)\u001b[0m\u001b[1;33m)\u001b[0m\u001b[1;33m\u001b[0m\u001b[1;33m\u001b[0m\u001b[0m\n\u001b[0;32m      4\u001b[0m \u001b[0mplt\u001b[0m\u001b[1;33m.\u001b[0m\u001b[0mgrid\u001b[0m\u001b[1;33m(\u001b[0m\u001b[1;32mTrue\u001b[0m\u001b[1;33m)\u001b[0m\u001b[1;33m\u001b[0m\u001b[1;33m\u001b[0m\u001b[0m\n\u001b[0;32m      5\u001b[0m \u001b[0mplt\u001b[0m\u001b[1;33m.\u001b[0m\u001b[0mgca\u001b[0m\u001b[1;33m(\u001b[0m\u001b[1;33m)\u001b[0m\u001b[1;33m.\u001b[0m\u001b[0mset_ylim\u001b[0m\u001b[1;33m(\u001b[0m\u001b[1;36m0\u001b[0m\u001b[1;33m,\u001b[0m\u001b[1;36m1\u001b[0m\u001b[1;33m)\u001b[0m\u001b[1;33m\u001b[0m\u001b[1;33m\u001b[0m\u001b[0m\n",
            "\u001b[1;31mModuleNotFoundError\u001b[0m: No module named 'pandas'"
          ]
        }
      ],
      "source": [
        "import pandas as pd\n",
        "import matplotlib.pyplot as plt\n",
        "pd.DataFrame(history.history).plot(figsize = (8, 5))\n",
        "plt.grid(True)\n",
        "plt.gca().set_ylim(0,1)\n",
        "plt.show()"
      ]
    },
    {
      "cell_type": "code",
      "execution_count": 7,
      "metadata": {
        "colab": {
          "base_uri": "https://localhost:8080/",
          "height": 282
        },
        "id": "EknO0kfr0Hf5",
        "outputId": "59304ce0-6a08-4341-dae6-68e25fef5fe0"
      },
      "outputs": [
        {
          "data": {
            "image/png": "[encoded data removed]",
            "text/plain": [
              "<Figure size 432x288 with 1 Axes>"
            ]
          },
          "metadata": {
            "needs_background": "light"
          },
          "output_type": "display_data"
        },
        {
          "name": "stdout",
          "output_type": "stream",
          "text": [
            "El número en la imágen es  7\n"
          ]
        }
      ],
      "source": [
        "import numpy as np\n",
        "import matplotlib.image as mpimg\n",
        "\n",
        "xNew = xTest[0:1]\n",
        "yProba = model.predict(xNew)\n",
        "yProba.round(2)\n",
        "\n",
        "imgplot = plt.imshow((xNew[0] / 255))\n",
        "plt.show()\n",
        "yPred = model.predict(xNew)\n",
        "#print(yPred[0])\n",
        "print(\"El número en la imágen es \", np.array(classNames[np.argmax(yPred)]))\n",
        "model.save(\"mnist.h5\")"
      ]
    }
  ],
  "metadata": {
    "accelerator": "GPU",
    "colab": {
      "collapsed_sections": [],
      "name": "MNIST_W_Keras.ipynb",
      "provenance": []
    },
    "interpreter": {
      "hash": "d2edec2eb969a9dfbf380899abf436dd3e786c02e57d83e9add4972c3816dd5a"
    },
    "kernelspec": {
      "display_name": "Python 3.8.3 64-bit",
      "name": "python3"
    },
    "language_info": {
      "codemirror_mode": {
        "name": "ipython",
        "version": 3
      },
      "file_extension": ".py",
      "mimetype": "text/x-python",
      "name": "python",
      "nbconvert_exporter": "python",
      "pygments_lexer": "ipython3",
      "version": "3.8.3"
    }
  },
  "nbformat": 4,
  "nbformat_minor": 0
}